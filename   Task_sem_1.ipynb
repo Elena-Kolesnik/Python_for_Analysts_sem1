{
  "nbformat": 4,
  "nbformat_minor": 0,
  "metadata": {
    "colab": {
      "provenance": []
    },
    "kernelspec": {
      "name": "python3",
      "display_name": "Python 3"
    },
    "language_info": {
      "name": "python"
    }
  },
  "cells": [
    {
      "cell_type": "markdown",
      "source": [
        "# ***Условие 2:***\n",
        "\n",
        "###*На складе лежат разные фрукты в разном количестве.*\n",
        "\n",
        "\n",
        "Нужно написать функцию, которая на вход принимает любое количество названий фруктов и их количество, а возвращает общее количество фруктов на складе"
      ],
      "metadata": {
        "id": "kLoeU_-J4m2v"
      }
    },
    {
      "cell_type": "code",
      "source": [
        "\n",
        "def count_fruits(**fruits):\n",
        "    total = 0\n",
        "    for count in fruits.values():\n",
        "        total += count\n",
        "    return total\n",
        "\n",
        "print(f\"общее количество продуктов на складе: {count_fruits(mandarins=20, pears=20, pineapples=40)}\")\n",
        "\n"
      ],
      "metadata": {
        "colab": {
          "base_uri": "https://localhost:8080/"
        },
        "id": "8Mn7QLqu5_it",
        "outputId": "14fec2d3-e259-4754-adf3-d50cd27864b9"
      },
      "execution_count": 8,
      "outputs": [
        {
          "output_type": "stream",
          "name": "stdout",
          "text": [
            "общее количество продуктов на складе: 80\n"
          ]
        }
      ]
    },
    {
      "cell_type": "markdown",
      "source": [
        "___\n",
        "# ***Условие 3:***\n",
        "\n",
        "###*Дан список с затратами на рекламу.*\n",
        "Но в данных есть ошибки, некоторые затраты имеют отрицательную величину. Удалите такие значения из списка и посчитайте суммарные затраты\n",
        "[100, 125, -90, 345, 655, -1, 0, 200]\n",
        "\n",
        "Используйте list comprehensions"
      ],
      "metadata": {
        "id": "oEFF1Co869tv"
      }
    },
    {
      "cell_type": "code",
      "source": [
        "expenses = [100, 125, -90, 345, 655, -1, 0, 200]\n",
        "expenses = [x for x in expenses if x >= 0]\n",
        "total_expenses = sum(expenses)\n",
        "print(f\" сумманые затраты: {total_expenses}\")"
      ],
      "metadata": {
        "colab": {
          "base_uri": "https://localhost:8080/"
        },
        "id": "2SAlfdQf7isR",
        "outputId": "0dfcba6c-2668-4e6b-ab24-6a8b6f7f7740"
      },
      "execution_count": 3,
      "outputs": [
        {
          "output_type": "stream",
          "name": "stdout",
          "text": [
            " сумманые затраты: 1425\n"
          ]
        }
      ]
    },
    {
      "cell_type": "markdown",
      "source": [
        "___\n",
        "# ***Условие 4.1:***\n",
        "##*Даны два списка.*\n",
        "\n",
        "<u>**Дата покупки:**</u>\n",
        "\n",
        "['2021-09-14', '2021-12-15', '2021-09-08', '2021-12-05', '2021-10-09', '2021-09-30', '2021-12-22', '2021-11-29', '2021-12-24', '2021-11-26', '2021-10-27', '2021-12-18', '2021-11-09', '2021-11-23', '2021-09-27', '2021-10-02', '2021-12-27', '2021-09-20', '2021-12-13', '2021-11-01', '2021-11-09', '2021-12-06', '2021-12-08', '2021-10-09', '2021-10-31', '2021-09-30', '2021-11-09', '2021-12-13', '2021-10-26', '2021-12-09']\n",
        "\n",
        "<u>**Суммы покупок по датам:**</u>\n",
        "\n",
        "[1270, 8413, 9028, 3703, 5739, 4095, 295, 4944, 5723, 3701, 4471, 651, 7037, 4274, 6275, 4988, 6930, 2971, 6592, 2004, 2822, 519, 3406, 2732, 5015, 2008, 316, 6333, 5700, 2887]"
      ],
      "metadata": {
        "id": "8u1PBMP88z--"
      }
    },
    {
      "cell_type": "markdown",
      "source": [
        "### 4.1 Найдите, какая выручка у компании в ноябре\n",
        "\n",
        "Используйте list comprehensions"
      ],
      "metadata": {
        "id": "5ZltDjgc9-h7"
      }
    },
    {
      "cell_type": "code",
      "source": [
        "\n",
        "dates = ['2021-09-14', '2021-12-15', '2021-09-08', '2021-12-05', '2021-10-09', '2021-09-30', '2021-12-22', '2021-11-29', '2021-12-24', '2021-11-26', '2021-10-27', '2021-12-18', '2021-11-09', '2021-11-23', '2021-09-27', '2021-10-02', '2021-12-27', '2021-09-20', '2021-12-13', '2021-11-01', '2021-11-09', '2021-12-06', '2021-12-08', '2021-10-09', '2021-10-31', '2021-09-30', '2021-11-09', '2021-12-13', '2021-10-26', '2021-12-09']\n",
        "sales = [1270, 8413, 9028, 3703, 5739, 4095, 295, 4944, 5723, 3701, 4471, 651, 7037, 4274, 6275, 4988, 6930, 2971, 6592, 2004, 2822, 519, 3406, 2732, 5015, 2008, 316, 6333, 5700, 2887]\n",
        "\n",
        "nov_sales = sum([sales[i] for i in range(len(dates)) if dates[i].split('-')[1] == '11'])\n",
        "print(f\"Cумма выручки в ноябре составляет: {nov_sales}\")\n"
      ],
      "metadata": {
        "colab": {
          "base_uri": "https://localhost:8080/"
        },
        "id": "pS9j5N3wByH2",
        "outputId": "0a8a7ce6-029d-43d0-9bdc-1db0d17f71b1"
      },
      "execution_count": 5,
      "outputs": [
        {
          "output_type": "stream",
          "name": "stdout",
          "text": [
            "Cумма выручки в ноябре составляет: 25098\n"
          ]
        }
      ]
    },
    {
      "cell_type": "markdown",
      "source": [
        "### 4.2 Найдите выручку компании в зависимости от месяца\n",
        "\n",
        "Для этого напишите функцию, которая на вход принимает список с датами и список с выручкой, а на выходе словарь, где ключи - это месяцы, а значения - это выручка.\n",
        "Используйте аннотирование типов."
      ],
      "metadata": {
        "id": "J5dqGMmSCi_z"
      }
    },
    {
      "cell_type": "code",
      "source": [
        "\n",
        "from typing import List, Dict\n",
        "\n",
        "def sales_by_month(dates: List[str], sales: List[int]) -> Dict[str, int]:\n",
        "    result = {}\n",
        "    for i in range(len(dates)):\n",
        "        month = dates[i].split('-')[1]\n",
        "        if month in result:\n",
        "            result[month] += sales[i]\n",
        "        else:\n",
        "            result[month] = sales[i]\n",
        "    return result\n",
        "\n",
        "sales_dict = sales_by_month(dates, sales)\n",
        "print(sales_dict)\n"
      ],
      "metadata": {
        "colab": {
          "base_uri": "https://localhost:8080/"
        },
        "id": "7ZhSsLhyLjhD",
        "outputId": "00b07487-4c04-4588-8a10-7cd2d18f5215"
      },
      "execution_count": 6,
      "outputs": [
        {
          "output_type": "stream",
          "name": "stdout",
          "text": [
            "{'09': 25647, '12': 45452, '10': 28645, '11': 25098}\n"
          ]
        }
      ]
    },
    {
      "cell_type": "code",
      "source": [
        "\n",
        "from datetime import datetime\n",
        "\n",
        "def revenue_by_month(dates: List[str], revenue: List[int]) -> Dict[str, int]:\n",
        "    revenue_by_month = {}\n",
        "    for i in range(len(dates)):\n",
        "        date = datetime.strptime(dates[i], '%Y-%m-%d')\n",
        "        month = date.strftime('%m')\n",
        "        if month in revenue_by_month:\n",
        "            revenue_by_month[month] += revenue[i]\n",
        "        else:\n",
        "            revenue_by_month[month] = revenue[i]\n",
        "    return revenue_by_month\n",
        "\n",
        "sales_dict = sales_by_month(dates, sales)\n",
        "print(sales_dict)\n"
      ],
      "metadata": {
        "colab": {
          "base_uri": "https://localhost:8080/"
        },
        "id": "dX285Wv1MAU2",
        "outputId": "bbdc1d51-1310-4f4c-a7ba-a3b0f5f8148c"
      },
      "execution_count": 7,
      "outputs": [
        {
          "output_type": "stream",
          "name": "stdout",
          "text": [
            "{'09': 25647, '12': 45452, '10': 28645, '11': 25098}\n"
          ]
        }
      ]
    }
  ]
}